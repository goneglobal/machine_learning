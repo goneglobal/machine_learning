{
 "cells": [
  {
   "cell_type": "code",
   "execution_count": 4,
   "id": "72e80e20-7f70-4205-9e53-9c4806bb5ff1",
   "metadata": {},
   "outputs": [
    {
     "name": "stdout",
     "output_type": "stream",
     "text": [
      "hello world\n"
     ]
    }
   ],
   "source": [
    "def adamfunc():\n",
    "    print (\"hello world\")\n",
    "\n",
    "if __name__ == \"__main__\":\n",
    "    adamfunc()"
   ]
  },
  {
   "cell_type": "code",
   "execution_count": 6,
   "id": "5643da25-8f39-4851-ae0d-f3087ec83800",
   "metadata": {},
   "outputs": [
    {
     "name": "stderr",
     "output_type": "stream",
     "text": [
      "2025-09-13 20:29:51.813573: I tensorflow/core/platform/cpu_feature_guard.cc:210] This TensorFlow binary is optimized to use available CPU instructions in performance-critical operations.\n",
      "To enable the following instructions: AVX2 FMA, in other operations, rebuild TensorFlow with the appropriate compiler flags.\n"
     ]
    },
    {
     "ename": "ImportError",
     "evalue": "cannot import name 'Dense' from 'tensorflow' (/usr/local/lib/python3.9/site-packages/tensorflow/__init__.py)",
     "output_type": "error",
     "traceback": [
      "\u001b[0;31m---------------------------------------------------------------------------\u001b[0m",
      "\u001b[0;31mImportError\u001b[0m                               Traceback (most recent call last)",
      "Cell \u001b[0;32mIn[6], line 2\u001b[0m\n\u001b[1;32m      1\u001b[0m \u001b[38;5;28;01mimport\u001b[39;00m\u001b[38;5;250m \u001b[39m\u001b[38;5;21;01mos\u001b[39;00m\n\u001b[0;32m----> 2\u001b[0m \u001b[38;5;28;01mfrom\u001b[39;00m\u001b[38;5;250m \u001b[39m\u001b[38;5;21;01mtensorflow\u001b[39;00m\u001b[38;5;250m \u001b[39m\u001b[38;5;28;01mimport\u001b[39;00m Dense\n",
      "\u001b[0;31mImportError\u001b[0m: cannot import name 'Dense' from 'tensorflow' (/usr/local/lib/python3.9/site-packages/tensorflow/__init__.py)"
     ]
    }
   ],
   "source": [
    "import os\n",
    "from tensorflow import Dense"
   ]
  },
  {
   "cell_type": "code",
   "execution_count": null,
   "id": "72451317-3fe1-421a-a758-450f9eb8dfe3",
   "metadata": {},
   "outputs": [],
   "source": []
  },
  {
   "cell_type": "code",
   "execution_count": null,
   "id": "3010b0ef-2724-42de-80b4-92fcabbce661",
   "metadata": {},
   "outputs": [],
   "source": []
  }
 ],
 "metadata": {
  "kernelspec": {
   "display_name": "Python 3 (ipykernel)",
   "language": "python",
   "name": "python3"
  },
  "language_info": {
   "codemirror_mode": {
    "name": "ipython",
    "version": 3
   },
   "file_extension": ".py",
   "mimetype": "text/x-python",
   "name": "python",
   "nbconvert_exporter": "python",
   "pygments_lexer": "ipython3",
   "version": "3.9.7"
  }
 },
 "nbformat": 4,
 "nbformat_minor": 5
}
