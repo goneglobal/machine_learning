{
 "cells": [
  {
   "cell_type": "markdown",
   "id": "479d6220",
   "metadata": {},
   "source": [
    "# How to Build a Machine Learning Model in Python\n",
    "\n",
    "## Learning Objectives\n",
    "In the modeling stage of the machine learning process, our goal is to choose and apply the appropriate machine learning approach that works with the data we have and solves the problem that we intend to solve. If our objective is to build a model that predicts a numeric or continuous value, then our problem is known as a regression problem. One of the most common models used in solving regression problems is **Linear Regression**. By the end of the tutorial, you will have learned:\n",
    "\n",
    "+ how to collect, explore and prepare data\n",
    "+ how to build and evaluate a model"
   ]
  },
  {
   "cell_type": "markdown",
   "id": "ab0001bb",
   "metadata": {},
   "source": [
    "## 1. Collect the Data"
   ]
  },
  {
   "cell_type": "code",
   "execution_count": null,
   "id": "348555da",
   "metadata": {},
   "outputs": [],
   "source": [
    "import pandas as pd\n",
    "bikes = pd.read_csv(\"bikes.csv\")\n",
    "bikes.head()"
   ]
  },
  {
   "cell_type": "markdown",
   "id": "c394d15d",
   "metadata": {},
   "source": [
    "## 2. Explore the Data"
   ]
  },
  {
   "cell_type": "code",
   "execution_count": null,
   "id": "f31260c2",
   "metadata": {},
   "outputs": [],
   "source": [
    "bikes.info()"
   ]
  },
  {
   "cell_type": "code",
   "execution_count": null,
   "id": "5c4b62df",
   "metadata": {},
   "outputs": [],
   "source": [
    "bikes.describe()"
   ]
  },
  {
   "cell_type": "code",
   "execution_count": null,
   "id": "a0d00853",
   "metadata": {},
   "outputs": [],
   "source": [
    "%matplotlib inline\n",
    "bikes.plot(kind = 'scatter', x = 'temperature', y = 'rentals')"
   ]
  },
  {
   "cell_type": "code",
   "execution_count": null,
   "id": "c09f3f70",
   "metadata": {},
   "outputs": [],
   "source": [
    "bikes.plot(kind = 'scatter', x = 'humidity', y = 'rentals')"
   ]
  },
  {
   "cell_type": "code",
   "execution_count": null,
   "id": "1391b6d5",
   "metadata": {},
   "outputs": [],
   "source": [
    "bikes.plot(kind = 'scatter', x = 'windspeed', y = 'rentals')"
   ]
  },
  {
   "cell_type": "markdown",
   "id": "b94d5506",
   "metadata": {},
   "source": [
    "## 3. Prepare the Data"
   ]
  },
  {
   "cell_type": "code",
   "execution_count": null,
   "id": "3242e07e",
   "metadata": {},
   "outputs": [],
   "source": [
    "response = 'rentals'\n",
    "y = bikes[[response]]\n",
    "y"
   ]
  },
  {
   "cell_type": "code",
   "execution_count": null,
   "id": "7b9fdb12",
   "metadata": {},
   "outputs": [],
   "source": [
    "predictors = list(bikes.columns)\n",
    "predictors.remove(response)\n",
    "x = bikes[predictors]\n",
    "x"
   ]
  },
  {
   "cell_type": "code",
   "execution_count": null,
   "id": "645022c3",
   "metadata": {},
   "outputs": [],
   "source": [
    "from sklearn.model_selection import train_test_split\n",
    "x_train, x_test, y_train, y_test = train_test_split(x, y, random_state = 1234) "
   ]
  },
  {
   "cell_type": "markdown",
   "id": "3c557ccc",
   "metadata": {},
   "source": [
    "## 4. Train the Model"
   ]
  },
  {
   "cell_type": "code",
   "execution_count": null,
   "id": "038b3ec2",
   "metadata": {},
   "outputs": [],
   "source": [
    "from sklearn.linear_model import LinearRegression\n"
   ]
  },
  {
   "cell_type": "code",
   "execution_count": null,
   "id": "12932d25",
   "metadata": {},
   "outputs": [],
   "source": []
  },
  {
   "cell_type": "code",
   "execution_count": null,
   "id": "afa2da2e",
   "metadata": {},
   "outputs": [],
   "source": []
  },
  {
   "cell_type": "markdown",
   "id": "0acb3035",
   "metadata": {},
   "source": [
    "The model coefficients correspond to the order in which the independent variables are listed in the training data. This means that the equation for the fitted regression line can be written as:\n",
    "\n",
    "$y = 3800.68 + 80.35 \\times temperature - 4665.74 \\times humidity - 196.22 \\times windspeed$\n",
    "\n",
    "With the linear regression equation, we can estimate what our model will predict given any weather condition. For example, given a temperature of $72^{\\circ}F$, $22\\%$ humidity and windspeed of $5$ miles per hour, our model would predict:\n",
    "\n",
    "$7,578 \\text{ bikes} \\approx 3800.68 + 80.35 \\times 72 - 4665.74 \\times .22 - 196.22 \\times 5$\n"
   ]
  },
  {
   "cell_type": "markdown",
   "id": "f6a73a70",
   "metadata": {},
   "source": [
    "## 5. Evaluate the Model"
   ]
  },
  {
   "cell_type": "code",
   "execution_count": null,
   "id": "e064399b",
   "metadata": {},
   "outputs": [],
   "source": []
  },
  {
   "cell_type": "code",
   "execution_count": null,
   "id": "1e19b325",
   "metadata": {},
   "outputs": [],
   "source": []
  },
  {
   "cell_type": "code",
   "execution_count": null,
   "id": "aff7218a",
   "metadata": {},
   "outputs": [],
   "source": [
    "from sklearn.metrics import mean_absolute_error\n"
   ]
  }
 ],
 "metadata": {
  "language_info": {
   "name": "python"
  }
 },
 "nbformat": 4,
 "nbformat_minor": 5
}
